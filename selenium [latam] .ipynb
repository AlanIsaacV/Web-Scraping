{
 "nbformat": 4,
 "nbformat_minor": 2,
 "metadata": {
  "language_info": {
   "name": "python",
   "codemirror_mode": {
    "name": "ipython",
    "version": 3
   },
   "version": "3.8.2-final"
  },
  "orig_nbformat": 2,
  "file_extension": ".py",
  "mimetype": "text/x-python",
  "name": "python",
  "npconvert_exporter": "python",
  "pygments_lexer": "ipython3",
  "version": 3,
  "kernelspec": {
   "name": "python38264bitplatziwebscrapingcondaa30d58de3a3a491193bb89e7ff35ab79",
   "display_name": "Python 3.8.2 64-bit ('platzi_web_scraping': conda)"
  }
 },
 "cells": [
  {
   "cell_type": "code",
   "execution_count": 1,
   "metadata": {},
   "outputs": [],
   "source": [
    "import requests\n",
    "from bs4 import BeautifulSoup\n",
    "from selenium import webdriver\n",
    "from selenium.webdriver.support.ui import WebDriverWait\n",
    "from selenium.webdriver.support import expected_conditions as EC\n",
    "from selenium.webdriver.common.by import By\n",
    "from selenium.common.exceptions import TimeoutException\n",
    "\n",
    "url = 'https://www.latam.com/es_mx/apps/personas/booking?fecha1_dia=14&fecha1_anomes=2020-05&ida_vuelta=ida_vuelta&from_city1=MEX&to_city1=BOG&cabina=Y&nadults=1&nchildren=0&ninfants=0&fecha2_dia=21&fecha2_anomes=2020-05#/'\n",
    "\n",
    "options = webdriver.ChromeOptions()\n",
    "options.add_argument('--incognito')\n",
    "timeout = 15\n",
    "driver = webdriver.Chrome(executable_path='./chromedriver', options=options)\n",
    "driver.get(url)"
   ]
  },
  {
   "cell_type": "code",
   "execution_count": 2,
   "metadata": {},
   "outputs": [
    {
     "output_type": "stream",
     "name": "stdout",
     "text": "La pagina termino de cargar\n"
    }
   ],
   "source": [
    "try:\n",
    "    elemento_carga = WebDriverWait(driver, timeout).until(EC.presence_of_element_located((By.XPATH, '//li[@class=\"flight\"]')))\n",
    "    print(f'La pagina termino de cargar')\n",
    "except TimeoutException:\n",
    "    print('Timeout')"
   ]
  },
  {
   "cell_type": "code",
   "execution_count": 3,
   "metadata": {},
   "outputs": [
    {
     "output_type": "execute_result",
     "data": {
      "text/plain": "[<selenium.webdriver.remote.webelement.WebElement (session=\"426a7386bf6b7b580e1c1a2275f1a8fc\", element=\"e25f2c89-5103-41d6-9fa6-e13633fe88d2\")>,\n <selenium.webdriver.remote.webelement.WebElement (session=\"426a7386bf6b7b580e1c1a2275f1a8fc\", element=\"a7ef5eca-ad28-4319-b44e-12aae9ab0094\")>,\n <selenium.webdriver.remote.webelement.WebElement (session=\"426a7386bf6b7b580e1c1a2275f1a8fc\", element=\"3f1ea3e2-526b-43a1-ad5d-47b224c755be\")>,\n <selenium.webdriver.remote.webelement.WebElement (session=\"426a7386bf6b7b580e1c1a2275f1a8fc\", element=\"836bb3e5-a447-4a06-9eef-c7bef4daa42f\")>,\n <selenium.webdriver.remote.webelement.WebElement (session=\"426a7386bf6b7b580e1c1a2275f1a8fc\", element=\"4cb1a25f-94d9-4375-a653-ba40c6a483ef\")>,\n <selenium.webdriver.remote.webelement.WebElement (session=\"426a7386bf6b7b580e1c1a2275f1a8fc\", element=\"9d3cbee0-31a7-4bfc-8a07-8cc5eb5b2f3e\")>,\n <selenium.webdriver.remote.webelement.WebElement (session=\"426a7386bf6b7b580e1c1a2275f1a8fc\", element=\"508fcd08-2684-45f2-a7b5-de4f55dc2e64\")>,\n <selenium.webdriver.remote.webelement.WebElement (session=\"426a7386bf6b7b580e1c1a2275f1a8fc\", element=\"e6cab93e-0b7d-4c32-b672-06bcdf7636dd\")>,\n <selenium.webdriver.remote.webelement.WebElement (session=\"426a7386bf6b7b580e1c1a2275f1a8fc\", element=\"92a98ecc-387f-41b9-8215-0fc0deb1dc01\")>,\n <selenium.webdriver.remote.webelement.WebElement (session=\"426a7386bf6b7b580e1c1a2275f1a8fc\", element=\"218d3e2f-bf15-4064-8d62-783f17ac692d\")>,\n <selenium.webdriver.remote.webelement.WebElement (session=\"426a7386bf6b7b580e1c1a2275f1a8fc\", element=\"c8877f27-4833-4d76-9bfd-489fefab385a\")>,\n <selenium.webdriver.remote.webelement.WebElement (session=\"426a7386bf6b7b580e1c1a2275f1a8fc\", element=\"958187ab-3c44-4345-9476-6c0578180bfb\")>,\n <selenium.webdriver.remote.webelement.WebElement (session=\"426a7386bf6b7b580e1c1a2275f1a8fc\", element=\"c2eb5e9d-d7b0-44fd-94cc-ccccb89af64f\")>,\n <selenium.webdriver.remote.webelement.WebElement (session=\"426a7386bf6b7b580e1c1a2275f1a8fc\", element=\"8d655668-e916-4489-9d50-8b8cb85b022a\")>,\n <selenium.webdriver.remote.webelement.WebElement (session=\"426a7386bf6b7b580e1c1a2275f1a8fc\", element=\"11786da0-d2ef-46b6-90b8-da50fc506d28\")>,\n <selenium.webdriver.remote.webelement.WebElement (session=\"426a7386bf6b7b580e1c1a2275f1a8fc\", element=\"8e7961da-6330-48e3-8e73-a309b88b33a9\")>,\n <selenium.webdriver.remote.webelement.WebElement (session=\"426a7386bf6b7b580e1c1a2275f1a8fc\", element=\"44f4f513-e06f-420e-a3ad-db73ae956e5e\")>,\n <selenium.webdriver.remote.webelement.WebElement (session=\"426a7386bf6b7b580e1c1a2275f1a8fc\", element=\"8b4454e5-149b-41dd-adf4-fee698a119d9\")>,\n <selenium.webdriver.remote.webelement.WebElement (session=\"426a7386bf6b7b580e1c1a2275f1a8fc\", element=\"330ad7a4-ac6c-48b8-b4ff-5c38639f9e32\")>,\n <selenium.webdriver.remote.webelement.WebElement (session=\"426a7386bf6b7b580e1c1a2275f1a8fc\", element=\"337489e8-bbb8-49df-becd-31b9690d386d\")>,\n <selenium.webdriver.remote.webelement.WebElement (session=\"426a7386bf6b7b580e1c1a2275f1a8fc\", element=\"1848a598-6412-4e37-bc42-8a17bfacd825\")>,\n <selenium.webdriver.remote.webelement.WebElement (session=\"426a7386bf6b7b580e1c1a2275f1a8fc\", element=\"687a5e38-3c80-482d-97c4-01bb860bda08\")>,\n <selenium.webdriver.remote.webelement.WebElement (session=\"426a7386bf6b7b580e1c1a2275f1a8fc\", element=\"b89550c4-6340-4008-9f3b-303eb685b7de\")>,\n <selenium.webdriver.remote.webelement.WebElement (session=\"426a7386bf6b7b580e1c1a2275f1a8fc\", element=\"3c0acc16-da55-414c-b4bd-28abccca3d9b\")>,\n <selenium.webdriver.remote.webelement.WebElement (session=\"426a7386bf6b7b580e1c1a2275f1a8fc\", element=\"bebd4611-4b99-4ae6-91bc-148be263b99a\")>,\n <selenium.webdriver.remote.webelement.WebElement (session=\"426a7386bf6b7b580e1c1a2275f1a8fc\", element=\"83273220-d8e4-4977-b7bd-60a8ff6c9a50\")>,\n <selenium.webdriver.remote.webelement.WebElement (session=\"426a7386bf6b7b580e1c1a2275f1a8fc\", element=\"9f04bfb8-9457-49b0-bae8-918d7b9feb9b\")>,\n <selenium.webdriver.remote.webelement.WebElement (session=\"426a7386bf6b7b580e1c1a2275f1a8fc\", element=\"13f7e96d-8c64-425e-be95-0d84faacd961\")>,\n <selenium.webdriver.remote.webelement.WebElement (session=\"426a7386bf6b7b580e1c1a2275f1a8fc\", element=\"3cfd76fc-6f5b-4c60-a48e-166c67935dcc\")>,\n <selenium.webdriver.remote.webelement.WebElement (session=\"426a7386bf6b7b580e1c1a2275f1a8fc\", element=\"65da435f-df5e-4500-a2b7-ff288295cc3c\")>,\n <selenium.webdriver.remote.webelement.WebElement (session=\"426a7386bf6b7b580e1c1a2275f1a8fc\", element=\"f3b1d504-6af6-4637-bd15-1a1964a1c001\")>,\n <selenium.webdriver.remote.webelement.WebElement (session=\"426a7386bf6b7b580e1c1a2275f1a8fc\", element=\"8bfa2999-9386-4b74-b22e-10445cd92493\")>,\n <selenium.webdriver.remote.webelement.WebElement (session=\"426a7386bf6b7b580e1c1a2275f1a8fc\", element=\"a6b3c601-7067-4d52-ad25-8aaf80b27869\")>,\n <selenium.webdriver.remote.webelement.WebElement (session=\"426a7386bf6b7b580e1c1a2275f1a8fc\", element=\"7571210c-6428-4372-b41f-90450788a370\")>,\n <selenium.webdriver.remote.webelement.WebElement (session=\"426a7386bf6b7b580e1c1a2275f1a8fc\", element=\"ff5546b4-0763-4084-858f-e750467a8a78\")>,\n <selenium.webdriver.remote.webelement.WebElement (session=\"426a7386bf6b7b580e1c1a2275f1a8fc\", element=\"ef776324-3b66-43da-91ce-a32847ce2cbb\")>,\n <selenium.webdriver.remote.webelement.WebElement (session=\"426a7386bf6b7b580e1c1a2275f1a8fc\", element=\"538b5cad-02c6-4383-8825-d473133f0e23\")>]"
     },
     "metadata": {},
     "execution_count": 3
    }
   ],
   "source": [
    "vuelos_lista = driver.find_elements_by_css_selector('.flight')\n",
    "vuelos_lista"
   ]
  },
  {
   "cell_type": "code",
   "execution_count": 4,
   "metadata": {},
   "outputs": [
    {
     "output_type": "execute_result",
     "data": {
      "text/plain": "{'salida': '16:25', 'llegada': '11:35', 'duracion': 'PT19H10M'}"
     },
     "metadata": {},
     "execution_count": 4
    }
   ],
   "source": [
    "vuelo = vuelos_lista[0]\n",
    "vuelo_datos = {}\n",
    "\n",
    "vuelo_datos['salida'] = vuelo.find_element_by_css_selector('.departure > time').get_attribute('datetime')\n",
    "vuelo_datos['llegada'] = vuelo.find_element_by_css_selector('.arrival > time').get_attribute('datetime')\n",
    "vuelo_datos['duracion'] = vuelo.find_element_by_css_selector('.duration > time').get_attribute('datetime')\n",
    "# print(f'Salida: \\t{salida}\\nLlegada: \\t{llegada}\\nDuracion: \\t{duracion}')\n",
    "vuelo_datos\n",
    "\n",
    ""
   ]
  },
  {
   "cell_type": "code",
   "execution_count": 7,
   "metadata": {},
   "outputs": [],
   "source": [
    "boton_escalas = driver.find_element_by_css_selector('.flight-summary-stops-description button')\n",
    "boton_escalas.click()"
   ]
  }
 ]
}