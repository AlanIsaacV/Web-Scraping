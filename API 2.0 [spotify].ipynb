{
 "cells": [
  {
   "cell_type": "code",
   "execution_count": 28,
   "metadata": {},
   "outputs": [],
   "source": [
    "import requests\n",
    "import base64\n",
    "import pandas as pd\n",
    "import IPython.display as ipd"
   ]
  },
  {
   "cell_type": "code",
   "execution_count": 29,
   "metadata": {},
   "outputs": [],
   "source": [
    "url_base = 'https://api.spotify.com'\n",
    "urls_ep = { 'token' : 'https://accounts.spotify.com/api/token',\n",
    "            'search' : url_base + '/v1/search',\n",
    "            'artists' : {\n",
    "               'artist' : url_base + '/v1/artists/{artist_id}', # Get an Artist > artist\n",
    "               'top_tracks' : url_base + '/v1/artists/{artist_id}/top-tracks', # Get an Artist's Top Tracks > tracks\n",
    "               'related_artist' : url_base + '/v1/artists/{artist_id}/related-artists', # Get an Artist's Related Artists > artists\n",
    "               'albums' : url_base + '/v1/artists/{artist_id}/albums' # Get an Artist's Albums > albums\n",
    "                },\n",
    "            'albums' : {\n",
    "                'album' : url_base + '/v1/albums/{album_id}', # Get an Album > album\n",
    "                'tracks' : url_base + '/v1/albums/{album_id}/tracks' # Get an Album's Tracks > tracks\n",
    "                },\n",
    "            'playlists' : {\n",
    "                'playlist' : url_base + '/v1/playlists/{playlist_id}', # Get a Playlist > playlist\n",
    "                'current_user' : url_base + '/v1/me/playlists', # Get a List of Current User's Playlists > playlists\n",
    "                'user' : url_base + '/v1/users/{user_id}/playlists', # Get a List of a User's Playlists > playlists\n",
    "                'tracks' : url_base + '/v1/playlists/{playlist_id}/tracks' # Get a Playlist's Tracks > tracks\n",
    "                },\n",
    "            'tracks' : {\n",
    "                'analyst' : url_base + '/v1/audio-analysis/{track_id}', # Get Audio Analysis for a Track > audio analysis object\n",
    "                'features' : url_base + '/v1/audio-features/{track_id}', # Get Audio Features for a Track > audio features\n",
    "                'track' : url_base + '/v1/tracks/{track_id}' # Get a Track > track\n",
    "            }\n",
    "           }"
   ]
  },
  {
   "cell_type": "code",
   "execution_count": 30,
   "metadata": {},
   "outputs": [],
   "source": [
    "credentials = {\n",
    "    'id' : 'e2db9b6cc74c4497a880d3cf4a4b0ea6',\n",
    "    'secret' : '12d72ea59ad6492daf31ec163792a979',\n",
    "    }\n",
    "credentials['encode'] = base64.b64encode( bytes( credentials['id'] + ':' + credentials['secret'], 'utf8' ) )\n",
    "\n",
    "token_data = {\n",
    "    'params' : {\n",
    "        'grant_type' : 'client_credentials'\n",
    "        },\n",
    "    'header' : {\n",
    "        'Authorization' : 'Basic ' + str(credentials['encode'], 'utf8')\n",
    "    }\n",
    "}\n",
    "\n",
    "search_types = ['artist', 'album', 'playlist', 'track', 'show', 'episode']\n",
    "params_default = {'market' : 'MX'}"
   ]
  },
  {
   "cell_type": "code",
   "execution_count": 31,
   "metadata": {},
   "outputs": [],
   "source": [
    "def _validate_connection(req):\n",
    "    if req.status_code == 400:\n",
    "        print(f'Invalid URL:\\t {req.url}')\n",
    "        return 400\n",
    "    \n",
    "    if req.status_code == 401:\n",
    "        global token_auth\n",
    "        token_auth = _get_token()\n",
    "        print(f'Refreshing token')\n",
    "        return 401\n",
    "\n",
    "    if req.status_code == 200:\n",
    "        print('Connection looks good!!')\n",
    "        return 200\n",
    "\n",
    "    print(f'The req to url {req.url} has thrown an error')\n",
    "    print(req.json())\n",
    "    return None\n",
    "\n",
    "        "
   ]
  },
  {
   "cell_type": "code",
   "execution_count": 32,
   "metadata": {},
   "outputs": [],
   "source": [
    "def _get_token():\n",
    "    req = requests.post(urls_ep['token'], headers=token_data['header'], data=token_data['params'])\n",
    "    print(f'token status:\\t{req.status_code}')\n",
    "    \n",
    "    if _validate_connection(req) == 401:\n",
    "        print('Unable to obtain token authorization')\n",
    "        return 401\n",
    "\n",
    "    print(f'Token valid for:\\t {req.json()[\"expires_in\"]} seg.')\n",
    "    return {'Authorization' : req.json()['token_type'] + ' ' + req.json()['access_token']}\n",
    ""
   ]
  },
  {
   "cell_type": "code",
   "execution_count": 33,
   "metadata": {},
   "outputs": [],
   "source": [
    "def search(search_text, type_results='artist'):\n",
    "    search_params = {'q' : search_text, \n",
    "                    'type' : type_results, \n",
    "                    'market' : 'MX',\n",
    "                    'limit' : 50}\n",
    "\n",
    "    find_result = requests.get(urls_ep['search'], headers=token_auth, params=search_params)\n",
    "    \n",
    "    if _validate_connection(find_result) == 401:\n",
    "        search(search_text, type_results)\n",
    "    \n",
    "    return find_result.json()[search_types[index_of_search_types] + 's']['items']"
   ]
  },
  {
   "cell_type": "code",
   "execution_count": 34,
   "metadata": {},
   "outputs": [
    {
     "output_type": "stream",
     "name": "stdout",
     "text": "token status:\t200\nConnection looks good!!\nToken valid for:\t 3600 seg.\n"
    }
   ],
   "source": [
    "token_auth = _get_token()"
   ]
  },
  {
   "cell_type": "code",
   "execution_count": 35,
   "metadata": {},
   "outputs": [
    {
     "output_type": "execute_result",
     "data": {
      "text/plain": "['artist', 'album', 'playlist', 'track', 'show', 'episode']"
     },
     "metadata": {},
     "execution_count": 35
    }
   ],
   "source": [
    "search_types"
   ]
  },
  {
   "cell_type": "code",
   "execution_count": 86,
   "metadata": {
    "tags": [
     "outputPrepend",
     "outputPrepend",
     "outputPrepend",
     "outputPrepend",
     "outputPrepend",
     "outputPrepend",
     "outputPrepend",
     "outputPrepend",
     "outputPrepend",
     "outputPrepend",
     "outputPrepend",
     "outputPrepend",
     "outputPrepend",
     "outputPrepend",
     "outputPrepend",
     "outputPrepend",
     "outputPrepend",
     "outputPrepend",
     "outputPrepend",
     "outputPrepend",
     "outputPrepend",
     "outputPrepend",
     "outputPrepend",
     "outputPrepend",
     "outputPrepend",
     "outputPrepend",
     "outputPrepend",
     "outputPrepend",
     "outputPrepend",
     "outputPrepend",
     "outputPrepend",
     "outputPrepend",
     "outputPrepend",
     "outputPrepend",
     "outputPrepend",
     "outputPrepend",
     "outputPrepend",
     "outputPrepend",
     "outputPrepend",
     "outputPrepend",
     "outputPrepend",
     "outputPrepend",
     "outputPrepend",
     "outputPrepend",
     "outputPrepend",
     "outputPrepend",
     "outputPrepend",
     "outputPrepend",
     "outputPrepend",
     "outputPrepend",
     "outputPrepend",
     "outputPrepend",
     "outputPrepend",
     "outputPrepend",
     "outputPrepend",
     "outputPrepend",
     "outputPrepend",
     "outputPrepend",
     "outputPrepend",
     "outputPrepend",
     "outputPrepend",
     "outputPrepend",
     "outputPrepend",
     "outputPrepend",
     "outputPrepend",
     "outputPrepend",
     "outputPrepend",
     "outputPrepend",
     "outputPrepend",
     "outputPrepend",
     "outputPrepend",
     "outputPrepend",
     "outputPrepend",
     "outputPrepend",
     "outputPrepend",
     "outputPrepend",
     "outputPrepend",
     "outputPrepend",
     "outputPrepend",
     "outputPrepend",
     "outputPrepend",
     "outputPrepend",
     "outputPrepend",
     "outputPrepend",
     "outputPrepend",
     "outputPrepend",
     "outputPrepend",
     "outputPrepend",
     "outputPrepend",
     "outputPrepend",
     "outputPrepend",
     "outputPrepend",
     "outputPrepend",
     "outputPrepend",
     "outputPrepend",
     "outputPrepend",
     "outputPrepend",
     "outputPrepend",
     "outputPrepend",
     "outputPrepend",
     "outputPrepend",
     "outputPrepend",
     "outputPrepend",
     "outputPrepend",
     "outputPrepend",
     "outputPrepend",
     "outputPrepend",
     "outputPrepend",
     "outputPrepend",
     "outputPrepend",
     "outputPrepend",
     "outputPrepend",
     "outputPrepend",
     "outputPrepend",
     "outputPrepend",
     "outputPrepend",
     "outputPrepend",
     "outputPrepend",
     "outputPrepend",
     "outputPrepend"
    ]
   },
   "outputs": [
    {
     "output_type": "stream",
     "name": "stdout",
     "text": "Connection looks good!!\n"
    }
   ],
   "source": [
    "search_text = 'Adele'\n",
    "index_of_search_types = 0\n",
    "\n",
    "find_result = search(search_text, search_types[index_of_search_types])\n",
    ""
   ]
  },
  {
   "cell_type": "code",
   "execution_count": 87,
   "metadata": {},
   "outputs": [
    {
     "output_type": "execute_result",
     "data": {
      "text/plain": "                        genres                      id    name  popularity  \\\n0  [british soul, pop, uk pop]  4dpARuHxo51G3z768sgnrY   Adele          84   \n1   [norwegian pop, scandipop]  2qS6cYzM5ajhprcxQa1Ilc  Adelén          41   \n\n     type  \n0  artist  \n1  artist  ",
      "text/html": "<div>\n<style scoped>\n    .dataframe tbody tr th:only-of-type {\n        vertical-align: middle;\n    }\n\n    .dataframe tbody tr th {\n        vertical-align: top;\n    }\n\n    .dataframe thead th {\n        text-align: right;\n    }\n</style>\n<table border=\"1\" class=\"dataframe\">\n  <thead>\n    <tr style=\"text-align: right;\">\n      <th></th>\n      <th>genres</th>\n      <th>id</th>\n      <th>name</th>\n      <th>popularity</th>\n      <th>type</th>\n    </tr>\n  </thead>\n  <tbody>\n    <tr>\n      <th>0</th>\n      <td>[british soul, pop, uk pop]</td>\n      <td>4dpARuHxo51G3z768sgnrY</td>\n      <td>Adele</td>\n      <td>84</td>\n      <td>artist</td>\n    </tr>\n    <tr>\n      <th>1</th>\n      <td>[norwegian pop, scandipop]</td>\n      <td>2qS6cYzM5ajhprcxQa1Ilc</td>\n      <td>Adelén</td>\n      <td>41</td>\n      <td>artist</td>\n    </tr>\n  </tbody>\n</table>\n</div>"
     },
     "metadata": {},
     "execution_count": 87
    }
   ],
   "source": [
    "artist_df = pd.DataFrame(find_result)\n",
    "artist_df.drop(['external_urls', 'followers', 'href', 'images', 'uri'], axis='columns', inplace=True)\n",
    "artist_df.head(2)"
   ]
  },
  {
   "cell_type": "code",
   "execution_count": 88,
   "metadata": {},
   "outputs": [],
   "source": [
    "def _is_it_the_type(evaluated_object, expected_type):\n",
    "    try:\n",
    "        if evaluated_object['type'] != expected_type: \n",
    "            print(f'The object type is not a/an {expected_type} is of type: {evaluated_object[\"type\"]}')\n",
    "            return False\n",
    "        else:\n",
    "            return True\n",
    "\n",
    "    except KeyError:\n",
    "        print(f'The object does not have a \"type\" property')\n",
    "        return None"
   ]
  },
  {
   "cell_type": "code",
   "execution_count": 89,
   "metadata": {},
   "outputs": [],
   "source": [
    "def get_albums_by_artist(artist):\n",
    "    valid_type = _is_it_the_type(artist, 'artist')\n",
    "    if valid_type is None or not valid_type: \n",
    "        return None\n",
    "\n",
    "    albums_url = urls_ep['artists']['albums'].format(artist_id=artist['id'])\n",
    "    albums_req = requests.get(albums_url, headers=token_auth, params=params_default)\n",
    "\n",
    "    if _validate_connection(albums_req) == 401:\n",
    "        get_albums_by_artist(artist)\n",
    "\n",
    "    return albums_req.json()['items']"
   ]
  },
  {
   "cell_type": "code",
   "execution_count": 90,
   "metadata": {},
   "outputs": [
    {
     "output_type": "stream",
     "name": "stdout",
     "text": "Connection looks good!!\n"
    }
   ],
   "source": [
    "artist = find_result[0]\n",
    "albums = get_albums_by_artist(artist)"
   ]
  },
  {
   "cell_type": "code",
   "execution_count": 91,
   "metadata": {},
   "outputs": [],
   "source": [
    "albums_df = pd.DataFrame(albums)\n",
    "albums_df.drop(['album_group', 'album_type', 'artists', 'external_urls', 'href', 'images', 'release_date_precision', 'uri'], axis=1, inplace=True)"
   ]
  },
  {
   "cell_type": "code",
   "execution_count": 92,
   "metadata": {},
   "outputs": [
    {
     "output_type": "execute_result",
     "data": {
      "text/plain": "                       id name release_date  total_tracks   type\n0  0K4pIOOsfJ9lK8OjrZfXzd   25   2016-06-24            11  album\n1  1azUkThwd2HfUDdeNeT147   21   2011-01-19            11  album",
      "text/html": "<div>\n<style scoped>\n    .dataframe tbody tr th:only-of-type {\n        vertical-align: middle;\n    }\n\n    .dataframe tbody tr th {\n        vertical-align: top;\n    }\n\n    .dataframe thead th {\n        text-align: right;\n    }\n</style>\n<table border=\"1\" class=\"dataframe\">\n  <thead>\n    <tr style=\"text-align: right;\">\n      <th></th>\n      <th>id</th>\n      <th>name</th>\n      <th>release_date</th>\n      <th>total_tracks</th>\n      <th>type</th>\n    </tr>\n  </thead>\n  <tbody>\n    <tr>\n      <th>0</th>\n      <td>0K4pIOOsfJ9lK8OjrZfXzd</td>\n      <td>25</td>\n      <td>2016-06-24</td>\n      <td>11</td>\n      <td>album</td>\n    </tr>\n    <tr>\n      <th>1</th>\n      <td>1azUkThwd2HfUDdeNeT147</td>\n      <td>21</td>\n      <td>2011-01-19</td>\n      <td>11</td>\n      <td>album</td>\n    </tr>\n  </tbody>\n</table>\n</div>"
     },
     "metadata": {},
     "execution_count": 92
    }
   ],
   "source": [
    "albums_df.head(2)"
   ]
  },
  {
   "cell_type": "code",
   "execution_count": 93,
   "metadata": {},
   "outputs": [],
   "source": [
    "def get_tracks_by_album(album):\n",
    "    valid_type = _is_it_the_type(album, 'album')\n",
    "    if valid_type is None or not valid_type:\n",
    "        return None\n",
    "\n",
    "    tracks_url = urls_ep['albums']['tracks'].format(album_id=album['id'])\n",
    "    tracks_req = requests.get(tracks_url, headers=token_auth, params=params_default)\n",
    "\n",
    "    if _validate_connection(tracks_req) == 401:\n",
    "        get_albums_by_artist(album)\n",
    "\n",
    "    return tracks_req.json()['items']"
   ]
  },
  {
   "cell_type": "code",
   "execution_count": 94,
   "metadata": {},
   "outputs": [
    {
     "output_type": "stream",
     "name": "stdout",
     "text": "Connection looks good!!\n"
    }
   ],
   "source": [
    "album = albums[0]\n",
    "tracks = get_tracks_by_album(album)\n",
    ""
   ]
  },
  {
   "cell_type": "code",
   "execution_count": 95,
   "metadata": {},
   "outputs": [],
   "source": [
    "tracks_df = pd.DataFrame(tracks)\n",
    "tracks_df.drop(['artists', 'explicit', 'external_urls', 'href', 'is_local', 'is_playable', 'uri'], axis='columns', inplace=True)"
   ]
  },
  {
   "cell_type": "code",
   "execution_count": 96,
   "metadata": {},
   "outputs": [
    {
     "output_type": "execute_result",
     "data": {
      "text/plain": "   disc_number  duration_ms                      id  \\\n0            1       295493  4sPmO7WMQUAf45kwMOtONw   \n1            1       223080  4BHzQ9C00ceJxfG16AlNWb   \n\n                               name  \\\n0                             Hello   \n1  Send My Love (To Your New Lover)   \n\n                                         preview_url  track_number   type  \n0  https://p.scdn.co/mp3-preview/0b90429fd554bad6...             1  track  \n1  https://p.scdn.co/mp3-preview/2f7c4f6de9f5a25e...             2  track  ",
      "text/html": "<div>\n<style scoped>\n    .dataframe tbody tr th:only-of-type {\n        vertical-align: middle;\n    }\n\n    .dataframe tbody tr th {\n        vertical-align: top;\n    }\n\n    .dataframe thead th {\n        text-align: right;\n    }\n</style>\n<table border=\"1\" class=\"dataframe\">\n  <thead>\n    <tr style=\"text-align: right;\">\n      <th></th>\n      <th>disc_number</th>\n      <th>duration_ms</th>\n      <th>id</th>\n      <th>name</th>\n      <th>preview_url</th>\n      <th>track_number</th>\n      <th>type</th>\n    </tr>\n  </thead>\n  <tbody>\n    <tr>\n      <th>0</th>\n      <td>1</td>\n      <td>295493</td>\n      <td>4sPmO7WMQUAf45kwMOtONw</td>\n      <td>Hello</td>\n      <td>https://p.scdn.co/mp3-preview/0b90429fd554bad6...</td>\n      <td>1</td>\n      <td>track</td>\n    </tr>\n    <tr>\n      <th>1</th>\n      <td>1</td>\n      <td>223080</td>\n      <td>4BHzQ9C00ceJxfG16AlNWb</td>\n      <td>Send My Love (To Your New Lover)</td>\n      <td>https://p.scdn.co/mp3-preview/2f7c4f6de9f5a25e...</td>\n      <td>2</td>\n      <td>track</td>\n    </tr>\n  </tbody>\n</table>\n</div>"
     },
     "metadata": {},
     "execution_count": 96
    }
   ],
   "source": [
    "tracks_df.head(2)"
   ]
  },
  {
   "cell_type": "code",
   "execution_count": 97,
   "metadata": {},
   "outputs": [],
   "source": [
    "if tracks[0]['preview_url'] is not None:\n",
    "    cancion_preview = requests.get(tracks[0]['preview_url'])\n",
    "    ipd.Audio(cancion_preview.content)\n",
    "else: \n",
    "    print('No hay url para preview de musica')"
   ]
  }
 ],
 "metadata": {
  "file_extension": ".py",
  "kernelspec": {
   "display_name": "Python 3.8.2 64-bit ('platzi_web_scraping': conda)",
   "language": "python",
   "name": "python38264bitplatziwebscrapingcondaa30d58de3a3a491193bb89e7ff35ab79"
  },
  "language_info": {
   "codemirror_mode": {
    "name": "ipython",
    "version": 3
   },
   "file_extension": ".py",
   "mimetype": "text/x-python",
   "name": "python",
   "nbconvert_exporter": "python",
   "pygments_lexer": "ipython3",
   "version": "3.8.2-final"
  },
  "mimetype": "text/x-python",
  "name": "python",
  "npconvert_exporter": "python",
  "pygments_lexer": "ipython3",
  "version": 3
 },
 "nbformat": 4,
 "nbformat_minor": 2
}